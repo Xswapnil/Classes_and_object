{
 "cells": [
  {
   "cell_type": "markdown",
   "metadata": {
    "collapsed": true
   },
   "source": [
    "# Understanding class and object in python.\n"
   ]
  },
  {
   "cell_type": "markdown",
   "metadata": {},
   "source": [
    "- Python is an object oriented programing language.\n",
    "- Almost everything in Python is an object, with its properties and methods.\n",
    "<h3 style=\"color:red\">A Class is like an obect contructor, or a \"blueprint\" for creating an objects.<h3>"
   ]
  },
  {
   "cell_type": "markdown",
   "metadata": {
    "collapsed": true
   },
   "source": [
    "#### <span style=\"color:green\">Create a class named MyClass, with a property named x and method myfunc()</span>"
   ]
  },
  {
   "cell_type": "code",
   "execution_count": 153,
   "metadata": {
    "collapsed": false
   },
   "outputs": [],
   "source": [
    "'''All classes have a function called __init__(), which is always executed when the class is being initiate'''\n",
    "class MyClass:\n",
    "    def __init__(self,x,word):\n",
    "        '''The self parameter is a reference to the current instance \n",
    "        of the class, and is used to access variables that belongs to \n",
    "        the class.(It does not have to be named self)'''\n",
    "        self.x = x\n",
    "        self.word = word\n",
    "    def myfunc(self):\n",
    "        print(self.x*self.word)"
   ]
  },
  {
   "cell_type": "markdown",
   "metadata": {},
   "source": [
    "#### <span style=\"color:green\">Create an object (m1) of the above class()</span>"
   ]
  },
  {
   "cell_type": "code",
   "execution_count": 159,
   "metadata": {
    "collapsed": false
   },
   "outputs": [],
   "source": [
    "m1=MyClass(5,\"Hello\") "
   ]
  },
  {
   "cell_type": "code",
   "execution_count": 160,
   "metadata": {
    "collapsed": false
   },
   "outputs": [
    {
     "name": "stdout",
     "output_type": "stream",
     "text": [
      "5\n",
      "HelloHelloHelloHelloHello\n"
     ]
    }
   ],
   "source": [
    "print(m1.x)\n",
    "m1.myfunc()"
   ]
  },
  {
   "cell_type": "markdown",
   "metadata": {},
   "source": [
    "### <span style=\"color:red\">Parent class is the class being inherited from, also called base class.</span>"
   ]
  },
  {
   "cell_type": "code",
   "execution_count": 161,
   "metadata": {
    "collapsed": false
   },
   "outputs": [],
   "source": [
    "class Person:\n",
    "    def __init__(self, firstName, lastName, idNumber):\n",
    "        self.firstName = firstName\n",
    "        self.lastName = lastName\n",
    "        self.idNumber = idNumber\n",
    "    def printPerson(self):\n",
    "        print (\"Name:\", self.lastName + \",\", self.firstName)\n",
    "        print (\"ID:\", self.idNumber)"
   ]
  },
  {
   "cell_type": "markdown",
   "metadata": {},
   "source": [
    "### <span style=\"color:red\">Child class is the class that inherits from another class, also called derived class.</span>"
   ]
  },
  {
   "cell_type": "code",
   "execution_count": 162,
   "metadata": {
    "collapsed": true
   },
   "outputs": [],
   "source": [
    "'''Class 'Student' is derived class of base class Person and inherits its properties and methods'''\n",
    "class Student(Person):\n",
    "    def __init__(self,firstName, lastName, idNum, scores):\n",
    "        Person.__init__(self,firstName, lastName, idNum)\n",
    "        self.scores = scores\n",
    "    def calculate(self):\n",
    "        avg = sum(self.scores) / len(self.scores)\n",
    "        if avg<=100 and avg >=90:\n",
    "            return \"O\"\n",
    "        elif avg<90 and avg >=80:\n",
    "            return \"E\"\n",
    "        elif avg<80 and avg >=70:\n",
    "            return \"A\"\n",
    "        elif avg<70 and avg >=55:\n",
    "            return \"P\"\n",
    "        elif avg<55 and avg >=40:\n",
    "            return \"D\"\n",
    "        elif avg<40:\n",
    "            return \"T\""
   ]
  },
  {
   "cell_type": "code",
   "execution_count": 163,
   "metadata": {
    "collapsed": false
   },
   "outputs": [],
   "source": [
    "s = Student(\"Varun\", \"Gandhi\", \"576382\", [31,32,34,35]) ## object of the class student"
   ]
  },
  {
   "cell_type": "code",
   "execution_count": 165,
   "metadata": {
    "collapsed": false
   },
   "outputs": [
    {
     "name": "stdout",
     "output_type": "stream",
     "text": [
      "Name: Gandhi, Varun\n",
      "ID: 576382\n",
      "Grade: T\n"
     ]
    }
   ],
   "source": [
    "s.printPerson()  \n",
    "print(\"Grade:\", s.calculate())"
   ]
  }
 ],
 "metadata": {
  "kernelspec": {
   "display_name": "Python 3",
   "language": "python",
   "name": "python3"
  },
  "language_info": {
   "codemirror_mode": {
    "name": "ipython",
    "version": 3
   },
   "file_extension": ".py",
   "mimetype": "text/x-python",
   "name": "python",
   "nbconvert_exporter": "python",
   "pygments_lexer": "ipython3",
   "version": "3.6.0"
  }
 },
 "nbformat": 4,
 "nbformat_minor": 2
}
